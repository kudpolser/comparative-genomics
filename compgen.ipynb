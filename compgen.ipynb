{
 "cells": [
  {
   "cell_type": "code",
   "execution_count": 206,
   "metadata": {},
   "outputs": [],
   "source": [
    "def parse_blocks(f):\n",
    "    block = {}\n",
    "    for i in range(len(f)):\n",
    "        if f[i].find('Block') == 0:\n",
    "            idx = f[i][:-1]\n",
    "            block[idx] = []\n",
    "            skip_one_row = 1\n",
    "        elif skip_one_row == 1:\n",
    "            skip_one_row = 0\n",
    "        elif f[i][:3] == '---':\n",
    "            continue\n",
    "        else:\n",
    "            block[idx].append(f[i].split('\\t')[0])\n",
    "    return block"
   ]
  },
  {
   "cell_type": "code",
   "execution_count": 207,
   "metadata": {},
   "outputs": [],
   "source": [
    "f = open(\"5kb/blocks_coords.txt\",)\n",
    "f = f.readlines()\n",
    "f = f[12:]\n",
    "block_5kb = parse_blocks(f)"
   ]
  },
  {
   "cell_type": "code",
   "execution_count": 208,
   "metadata": {},
   "outputs": [],
   "source": [
    "f = open(\"1kb/blocks_coords.txt\",)\n",
    "f = f.readlines()\n",
    "f = f[12:]\n",
    "block_1kb = parse_blocks(f)"
   ]
  },
  {
   "cell_type": "code",
   "execution_count": 209,
   "metadata": {},
   "outputs": [
    {
     "data": {
      "text/plain": [
       "(156, 311)"
      ]
     },
     "execution_count": 209,
     "metadata": {},
     "output_type": "execute_result"
    }
   ],
   "source": [
    "#number of all blocks\n",
    "len(block_5kb), len(block_1kb)"
   ]
  },
  {
   "cell_type": "code",
   "execution_count": 210,
   "metadata": {},
   "outputs": [],
   "source": [
    "def common_block(block):\n",
    "    n = 0\n",
    "    for i in range(1, len(block)+1):\n",
    "        if len(set(block['Block #' + str(i)])) == 10:\n",
    "            n += 1\n",
    "    return n"
   ]
  },
  {
   "cell_type": "code",
   "execution_count": 211,
   "metadata": {},
   "outputs": [
    {
     "data": {
      "text/plain": [
       "(138, 252)"
      ]
     },
     "execution_count": 211,
     "metadata": {},
     "output_type": "execute_result"
    }
   ],
   "source": [
    "#number of common blocks\n",
    "common_block(block_5kb), common_block(block_1kb)"
   ]
  },
  {
   "cell_type": "code",
   "execution_count": 212,
   "metadata": {},
   "outputs": [],
   "source": [
    "def repeated_block(block):\n",
    "    n = 0\n",
    "    for i in range(1, len(block)+1):\n",
    "        if len(set(block['Block #' + str(i)])) != len(block['Block #' + str(i)]):\n",
    "            # print('Block #' + str(i))\n",
    "            n += 1\n",
    "    return n"
   ]
  },
  {
   "cell_type": "code",
   "execution_count": 213,
   "metadata": {},
   "outputs": [
    {
     "data": {
      "text/plain": [
       "(2, 19)"
      ]
     },
     "execution_count": 213,
     "metadata": {},
     "output_type": "execute_result"
    }
   ],
   "source": [
    "#number of repeated blocks\n",
    "repeated_block(block_5kb), repeated_block(block_1kb)"
   ]
  },
  {
   "cell_type": "code",
   "execution_count": 214,
   "metadata": {},
   "outputs": [],
   "source": [
    "def parse_blocks_length(f):\n",
    "    block = {}\n",
    "    for i in range(len(f)):\n",
    "        if f[i].find('Block') == 0:\n",
    "            idx = f[i][:-1]\n",
    "            block[idx] = []\n",
    "            skip_one_row = 1\n",
    "        elif skip_one_row == 1:\n",
    "            skip_one_row = 0\n",
    "        elif f[i][:3] == '---':\n",
    "            continue\n",
    "        else:\n",
    "            block[idx].append(int(f[i].split('\\t')[4][:-1]))\n",
    "    return block"
   ]
  },
  {
   "cell_type": "code",
   "execution_count": 215,
   "metadata": {},
   "outputs": [],
   "source": [
    "block_1kb_len = parse_blocks_length(f)"
   ]
  },
  {
   "cell_type": "code",
   "execution_count": 216,
   "metadata": {},
   "outputs": [],
   "source": [
    "for i in range(1, len(block_1kb_len)+1):\n",
    "    block_1kb_len['Block #' + str(i)] = int(sum(block_1kb_len['Block #' + str(i)])/len(block_1kb_len['Block #' + str(i)]))"
   ]
  },
  {
   "cell_type": "code",
   "execution_count": 217,
   "metadata": {},
   "outputs": [],
   "source": [
    "block_1kb_freq = {}\n",
    "for i in range(1, len(block_1kb)+1):\n",
    "    block_1kb_freq['Block #' + str(i)] = len(set(block_1kb['Block #' + str(i)]))"
   ]
  },
  {
   "cell_type": "code",
   "execution_count": 218,
   "metadata": {},
   "outputs": [],
   "source": [
    "import matplotlib.pyplot as plt"
   ]
  },
  {
   "cell_type": "code",
   "execution_count": 219,
   "metadata": {},
   "outputs": [
    {
     "data": {
      "image/png": "[encoded data removed]",
      "text/plain": [
       "<Figure size 720x504 with 1 Axes>"
      ]
     },
     "metadata": {
      "needs_background": "light"
     },
     "output_type": "display_data"
    }
   ],
   "source": [
    "plt.figure(figsize=(10,7))\n",
    "plt.scatter(list(block_1kb_freq.values()), list(block_1kb_len.values()))\n",
    "plt.title('Dependency of number of genome and length')\n",
    "plt.xlabel('Number of genomes')\n",
    "plt.ylabel('Average length of blocks')\n",
    "plt.show()"
   ]
  },
  {
   "cell_type": "code",
   "execution_count": 220,
   "metadata": {},
   "outputs": [
    {
     "name": "stdout",
     "output_type": "stream",
     "text": [
      "Block #311\n"
     ]
    },
    {
     "data": {
      "text/plain": [
       "1315"
      ]
     },
     "execution_count": 220,
     "metadata": {},
     "output_type": "execute_result"
    }
   ],
   "source": [
    "for k, v in block_1kb_freq.items():\n",
    "    if v == 2:\n",
    "        print(k)\n",
    "\n",
    "block_1kb_len['Block #2']"
   ]
  },
  {
   "cell_type": "code",
   "execution_count": 221,
   "metadata": {},
   "outputs": [
    {
     "name": "stdout",
     "output_type": "stream",
     "text": [
      "Block #228\n"
     ]
    }
   ],
   "source": [
    "for k, v in block_1kb_len.items():\n",
    "    if v >= 80000:\n",
    "        print(k)"
   ]
  },
  {
   "cell_type": "code",
   "execution_count": 222,
   "metadata": {},
   "outputs": [],
   "source": [
    "def parse_blocks_coord(f):\n",
    "    block = {}\n",
    "    for i in range(len(f)):\n",
    "        if f[i].find('Block') == 0:\n",
    "            idx = f[i][:-1]\n",
    "            block[idx] = []\n",
    "            skip_one_row = 1\n",
    "        elif skip_one_row == 1:\n",
    "            skip_one_row = 0\n",
    "        elif f[i][:3] == '---':\n",
    "            continue\n",
    "        else:\n",
    "            block[idx].append([int(f[i].split('\\t')[0]), int(f[i].split('\\t')[2]), int(f[i].split('\\t')[3])])\n",
    "    return block"
   ]
  },
  {
   "cell_type": "code",
   "execution_count": 223,
   "metadata": {},
   "outputs": [],
   "source": [
    "block_1kb_coors = parse_blocks_coord(f)"
   ]
  },
  {
   "cell_type": "code",
   "execution_count": 224,
   "metadata": {},
   "outputs": [
    {
     "data": {
      "text/plain": [
       "[[1, 1224112, 1230874], [8, 41383, 34621]]"
      ]
     },
     "execution_count": 224,
     "metadata": {},
     "output_type": "execute_result"
    }
   ],
   "source": [
    "block_1kb_coors['Block #311']"
   ]
  },
  {
   "cell_type": "code",
   "execution_count": 228,
   "metadata": {},
   "outputs": [
    {
     "data": {
      "text/plain": [
       "[[1, 4434761, 4353410],\n",
       " [2, 649267, 730814],\n",
       " [3, 3398111, 3479705],\n",
       " [4, 3805899, 3887447],\n",
       " [5, 150817, 232396],\n",
       " [6, 3674409, 3755901],\n",
       " [7, 1576388, 1657861],\n",
       " [8, 1987303, 2069408],\n",
       " [9, 3755283, 3836815],\n",
       " [10, 652667, 571091]]"
      ]
     },
     "execution_count": 228,
     "metadata": {},
     "output_type": "execute_result"
    }
   ],
   "source": [
    "block_1kb_coors['Block #228']"
   ]
  },
  {
   "cell_type": "code",
   "execution_count": 225,
   "metadata": {},
   "outputs": [],
   "source": [
    "from BCBio.GFF import GFFExaminer\n",
    "import pprint\n",
    "from Bio import SeqIO\n",
    "from BCBio import GFF"
   ]
  },
  {
   "cell_type": "code",
   "execution_count": 226,
   "metadata": {
    "collapsed": true
   },
   "outputs": [
    {
     "name": "stdout",
     "output_type": "stream",
     "text": [
      "ID: NC_014017.1\n",
      "Name: <unknown name>\n",
      "Description: <unknown description>\n",
      "Number of features: 90\n",
      "/gff-version=['3']\n",
      "/sequence-region=[('NC_014029.1', 0, 4553586), ('NC_014017.1', 0, 68342), ('NC_014022.1', 0, 94251), ('NC_014027.1', 0, 9609)]\n",
      "/species=['https://www.ncbi.nlm.nih.gov/Taxonomy/Browser/wwwtax.cgi?id=637386', 'https://www.ncbi.nlm.nih.gov/Taxonomy/Browser/wwwtax.cgi?id=637386', 'https://www.ncbi.nlm.nih.gov/Taxonomy/Browser/wwwtax.cgi?id=637386', 'https://www.ncbi.nlm.nih.gov/Taxonomy/Browser/wwwtax.cgi?id=637386']\n",
      "UnknownSeq(68587, character='?')\n",
      "ID: NC_014022.1\n",
      "Name: <unknown name>\n",
      "Description: <unknown description>\n",
      "Number of features: 97\n",
      "/gff-version=['3']\n",
      "/sequence-region=[('NC_014029.1', 0, 4553586), ('NC_014017.1', 0, 68342), ('NC_014022.1', 0, 94251), ('NC_014027.1', 0, 9609)]\n",
      "/species=['https://www.ncbi.nlm.nih.gov/Taxonomy/Browser/wwwtax.cgi?id=637386', 'https://www.ncbi.nlm.nih.gov/Taxonomy/Browser/wwwtax.cgi?id=637386', 'https://www.ncbi.nlm.nih.gov/Taxonomy/Browser/wwwtax.cgi?id=637386', 'https://www.ncbi.nlm.nih.gov/Taxonomy/Browser/wwwtax.cgi?id=637386']\n",
      "UnknownSeq(94251, character='?')\n",
      "ID: NC_014027.1\n",
      "Name: <unknown name>\n",
      "Description: <unknown description>\n",
      "Number of features: 10\n",
      "/gff-version=['3']\n",
      "/sequence-region=[('NC_014029.1', 0, 4553586), ('NC_014017.1', 0, 68342), ('NC_014022.1', 0, 94251), ('NC_014027.1', 0, 9609)]\n",
      "/species=['https://www.ncbi.nlm.nih.gov/Taxonomy/Browser/wwwtax.cgi?id=637386', 'https://www.ncbi.nlm.nih.gov/Taxonomy/Browser/wwwtax.cgi?id=637386', 'https://www.ncbi.nlm.nih.gov/Taxonomy/Browser/wwwtax.cgi?id=637386', 'https://www.ncbi.nlm.nih.gov/Taxonomy/Browser/wwwtax.cgi?id=637386']\n",
      "UnknownSeq(9609, character='?')\n",
      "ID: NC_014029.1\n",
      "Name: <unknown name>\n",
      "Description: <unknown description>\n",
      "Number of features: 4101\n",
      "/gff-version=['3']\n",
      "/sequence-region=[('NC_014029.1', 0, 4553586), ('NC_014017.1', 0, 68342), ('NC_014022.1', 0, 94251), ('NC_014027.1', 0, 9609)]\n",
      "/species=['https://www.ncbi.nlm.nih.gov/Taxonomy/Browser/wwwtax.cgi?id=637386', 'https://www.ncbi.nlm.nih.gov/Taxonomy/Browser/wwwtax.cgi?id=637386', 'https://www.ncbi.nlm.nih.gov/Taxonomy/Browser/wwwtax.cgi?id=637386', 'https://www.ncbi.nlm.nih.gov/Taxonomy/Browser/wwwtax.cgi?id=637386']\n",
      "UnknownSeq(4553586, character='?')\n"
     ]
    }
   ],
   "source": [
    "in_handle = open('GCF_000022845.1_ASM2284v1_genomic.gff')\n",
    "for rec in GFF.parse(in_handle):\n",
    "    print(rec)\n",
    "in_handle.close()"
   ]
  },
  {
   "cell_type": "code",
   "execution_count": 232,
   "metadata": {},
   "outputs": [
    {
     "name": "stdout",
     "output_type": "stream",
     "text": [
      "['YPZ3_RS00185']\n",
      "['YPZ3_RS00190']\n"
     ]
    }
   ],
   "source": [
    "for i in range(len(rec.features)):\n",
    "    if rec.features[i].location.start > 34621 and rec.features[i].location.end < 41383 and rec.features[i].strand == -1:\n",
    "        print(rec.features[i].qualifiers['Name'])"
   ]
  },
  {
   "cell_type": "code",
   "execution_count": 231,
   "metadata": {
    "collapsed": true
   },
   "outputs": [
    {
     "name": "stdout",
     "output_type": "stream",
     "text": [
      "['tpx']\n",
      "['ycjG']\n",
      "['mpaA']\n",
      "['YPZ3_RS09125']\n",
      "['zntB']\n",
      "['YPZ3_RS09135']\n",
      "['YPZ3_RS09140']\n",
      "['ttcA']\n",
      "['nifJ']\n",
      "['YPZ3_RS09155']\n",
      "['YPZ3_RS09160']\n",
      "['YPZ3_RS09165']\n",
      "['hslJ']\n",
      "['YPZ3_RS09175']\n",
      "['YPZ3_RS09180']\n",
      "['YPZ3_RS09185']\n",
      "['YPZ3_RS09190']\n",
      "['YPZ3_RS09195']\n",
      "['YPZ3_RS09200']\n",
      "['azoR']\n",
      "['hrpA']\n",
      "['YPZ3_RS09215']\n",
      "['YPZ3_RS09220']\n",
      "['YPZ3_RS09225']\n",
      "['asr']\n",
      "['YPZ3_RS09240']\n",
      "['YPZ3_RS09245']\n",
      "['YPZ3_RS09250']\n",
      "['YPZ3_RS09260']\n",
      "['YPZ3_RS09270']\n",
      "['YPZ3_RS09275']\n",
      "['rstB']\n",
      "['rstA']\n",
      "['YPZ3_RS09290']\n",
      "['YPZ3_RS09295']\n",
      "['YPZ3_RS09300']\n",
      "['pntA']\n",
      "['pntB']\n",
      "['uspE']\n",
      "['YPZ3_RS09325']\n",
      "['ogt']\n",
      "['phoA']\n",
      "['YPZ3_RS09340']\n",
      "['YPZ3_RS09345']\n",
      "['yjjG']\n",
      "['ilvN']\n",
      "['ilvB']\n",
      "['ivbL']\n",
      "['YPZ3_RS09365']\n",
      "['YPZ3_RS09370']\n",
      "['YPZ3_RS09375']\n",
      "['YPZ3_RS09380']\n",
      "['YPZ3_RS09385']\n",
      "['YPZ3_RS22750']\n",
      "['YPZ3_RS22755']\n",
      "['YPZ3_RS09395']\n",
      "['YPZ3_RS09400']\n",
      "['clcB']\n",
      "['bioD']\n",
      "['YPZ3_RS09420']\n",
      "['YPZ3_RS09425']\n",
      "['YPZ3_RS09430']\n",
      "['YPZ3_RS09435']\n",
      "['fumC']\n"
     ]
    }
   ],
   "source": [
    "for i in range(len(rec.features)):\n",
    "    if rec.features[i].location.start > 1987303 and rec.features[i].location.end < 2069408:\n",
    "        print(rec.features[i].qualifiers['Name'])"
   ]
  },
  {
   "cell_type": "code",
   "execution_count": 233,
   "metadata": {},
   "outputs": [],
   "source": [
    "block_1kb_set = {}\n",
    "for i in range(1, len(block_1kb)+1):\n",
    "        block_1kb_set['Block #' + str(i)] = set(block_1kb['Block #' + str(i)])"
   ]
  },
  {
   "cell_type": "code",
   "execution_count": 234,
   "metadata": {},
   "outputs": [],
   "source": [
    "from collections import defaultdict"
   ]
  },
  {
   "cell_type": "code",
   "execution_count": 235,
   "metadata": {},
   "outputs": [],
   "source": [
    "gen_set = defaultdict(set)\n",
    "for k, v in block_1kb_set.items():\n",
    "    for g in v:\n",
    "        gen_set[int(g)].add(k)"
   ]
  },
  {
   "cell_type": "code",
   "execution_count": 236,
   "metadata": {},
   "outputs": [],
   "source": [
    "res = [[0 for _ in range(10)] for _ in range(10)]\n",
    "for i in range(1, 11):\n",
    "    for j in range(1, 11):\n",
    "        res[i-1][j-1] = len(gen_set[i].intersection(gen_set[j]))"
   ]
  },
  {
   "cell_type": "code",
   "execution_count": 244,
   "metadata": {},
   "outputs": [
    {
     "data": {
      "image/png": "[encoded data removed]",
      "text/plain": [
       "<Figure size 360x360 with 1 Axes>"
      ]
     },
     "metadata": {
      "needs_background": "light"
     },
     "output_type": "display_data"
    }
   ],
   "source": [
    "plt.figure(figsize=(5,5))\n",
    "plt.imshow(res, cmap='RdYlGn_r', interpolation='nearest')\n",
    "plt.title(\"Pairwise distance matrix\")\n",
    "plt.xticks(range(0,10))\n",
    "plt.yticks(range(0,10))\n",
    "plt\n",
    "plt.show()"
   ]
  },
  {
   "cell_type": "code",
   "execution_count": 245,
   "metadata": {},
   "outputs": [],
   "source": [
    "max_d = 0\n",
    "max_g = []\n",
    "for i in range(0,10):\n",
    "    for j in range(0,10):\n",
    "        if max_d < res[i][j] and i != j:\n",
    "            max_d = res[i][j]\n",
    "            max_g = [i, j]"
   ]
  },
  {
   "cell_type": "code",
   "execution_count": 246,
   "metadata": {},
   "outputs": [
    {
     "data": {
      "text/plain": [
       "[2, 4]"
      ]
     },
     "execution_count": 246,
     "metadata": {},
     "output_type": "execute_result"
    }
   ],
   "source": [
    "max_g"
   ]
  },
  {
   "cell_type": "code",
   "execution_count": 247,
   "metadata": {},
   "outputs": [
    {
     "data": {
      "text/plain": [
       "302"
      ]
     },
     "execution_count": 247,
     "metadata": {},
     "output_type": "execute_result"
    }
   ],
   "source": [
    "max_d"
   ]
  },
  {
   "cell_type": "code",
   "execution_count": null,
   "metadata": {},
   "outputs": [],
   "source": []
  }
 ],
 "metadata": {
  "kernelspec": {
   "display_name": "Python 3",
   "language": "python",
   "name": "python3"
  },
  "language_info": {
   "codemirror_mode": {
    "name": "ipython",
    "version": 3
   },
   "file_extension": ".py",
   "mimetype": "text/x-python",
   "name": "python",
   "nbconvert_exporter": "python",
   "pygments_lexer": "ipython3",
   "version": "3.7.6"
  }
 },
 "nbformat": 4,
 "nbformat_minor": 4
}
